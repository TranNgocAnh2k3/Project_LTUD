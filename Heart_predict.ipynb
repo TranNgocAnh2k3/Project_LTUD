{
 "cells": [
  {
   "cell_type": "code",
   "execution_count": 2,
   "id": "4d4b7b3a-cece-4f3d-aba2-cb001fd50aee",
   "metadata": {},
   "outputs": [],
   "source": [
    "import numpy as np\n",
    "import pandas as pd\n",
    "import matplotlib.pyplot as plt\n",
    "from sklearn import metrics\n",
    "from mlxtend.plotting import plot_confusion_matrix"
   ]
  },
  {
   "cell_type": "code",
   "execution_count": 3,
   "id": "70328e6a-2f4c-45fe-8504-f459c36a556a",
   "metadata": {},
   "outputs": [
    {
     "name": "stdout",
     "output_type": "stream",
     "text": [
      "0.8476477024070022\n",
      "[[3099    0]\n",
      " [ 557    0]]\n"
     ]
    },
    {
     "data": {
      "image/png": "[encoded data removed]",
      "text/plain": [
       "<Figure size 640x480 with 2 Axes>"
      ]
     },
     "metadata": {},
     "output_type": "display_data"
    },
    {
     "name": "stdout",
     "output_type": "stream",
     "text": [
      "male                 [0.03846055]\n",
      "age                  [0.53324303]\n",
      "education            [-0.13752255]\n",
      "currentSmoker        [-0.00622692]\n",
      "cigsPerDay           [0.36212454]\n",
      "BPMeds               [0.01575929]\n",
      "prevalentStroke      [0.00434157]\n",
      "prevalentHyp         [0.07975946]\n",
      "diabetes             [0.01460548]\n",
      "totChol              [-0.26945478]\n",
      "sysBP                [0.52265982]\n",
      "diaBP                [-0.62010523]\n",
      "BMI                  [-0.38320367]\n",
      "heartRate            [-0.7982582]\n",
      "glucose              [0.1094951]\n",
      "male  :  [-0.27220541]\n",
      "age  :  [-0.03029977]\n",
      "education  :  [-0.59528821]\n",
      "currentSmoker  :  [-0.34454693]\n",
      "cigsPerDay  :  [-0.03724374]\n",
      "BPMeds  :  [-0.00503534]\n",
      "prevalentStroke  :  [0.00011945]\n",
      "prevalentHyp  :  [-0.13465747]\n",
      "diabetes  :  [-0.00234067]\n",
      "totChol  :  [-0.57604012]\n",
      "sysBP  :  [-0.13608695]\n",
      "diaBP  :  [-0.01449703]\n",
      "BMI  :  [-0.0629663]\n",
      "heartRate  :  [-0.0615375]\n",
      "glucose  :  [-0.00861278]\n"
     ]
    }
   ],
   "source": [
    "data1 = pd.read_csv('framingham.csv')\n",
    "data2 = data1.dropna()\n",
    "r1, c1 = data1.shape\n",
    "r, c = data2.shape\n",
    "\n",
    "# print(r1, c1)\n",
    "# print(r, c)\n",
    "\n",
    "y = data2.pop('TenYearCHD').to_numpy().reshape(-1, 1)\n",
    "x = data2.to_numpy()\n",
    "\n",
    "\n",
    "def sigmoid(x) :\n",
    "    return (1 / (1 + np.exp(-x)))\n",
    "class Logistic:\n",
    "    def __init__(self, r, c, base):\n",
    "        self.row = r\n",
    "        self.col = c\n",
    "        self.base = base\n",
    "    def train_data(self, x, y):\n",
    "        self.x_train = np.append(x, np.ones((self.row, 1)), axis = 1)\n",
    "        self.y_train = y\n",
    "        self.w = np.zeros((self.col, 1))\n",
    "    def predict(self):\n",
    "        return sigmoid(self.x_train @ self.w)\n",
    "    def loss(self):\n",
    "        l = np.log(self.predict()).T @ self.y_train + (np.ones(self.row, 1) - self.y_train).T @ np.log(np.ones(self.row, 1) - self.predict())\n",
    "    def gradient_descent(self, lr = 0.00005, iteration = 1000):\n",
    "        for _ in range(iteration) :\n",
    "            self.w -= lr * np.dot(self.x_train.T, (self.predict() - self.y_train)) / self.row\n",
    "        return self.w\n",
    "    def classify(self):\n",
    "        pred = np.zeros((self.row, 1))\n",
    "        for _ in range(self.row):\n",
    "            if self.predict()[_] >= self.base:\n",
    "                pred[_] = 1\n",
    "        return pred\n",
    "    def accuracy(self):\n",
    "        # false = np.sum(abs(self.classify(0.5) - self.y_train))\n",
    "        # print(\"Accuracy = \", 1 - false/self.row)\n",
    "        # return 1 - false/self.row\n",
    "        Acc = metrics.accuracy_score(self.y_train, self.classify())\n",
    "        return Acc\n",
    "    def confusion_matrix(self):\n",
    "        confusion_matrix = metrics.confusion_matrix(self.y_train, self.classify())\n",
    "        print(confusion_matrix)\n",
    "        cm_display = metrics.ConfusionMatrixDisplay(confusion_matrix=confusion_matrix, display_labels=[False, True])\n",
    "        cm_display.plot()\n",
    "        plt.show()\n",
    "    def graph(self):\n",
    "        plt.scatter(self.x_train[:,0], self.y_train)\n",
    "\n",
    "\n",
    "\n",
    "logistic = Logistic(r, c, 0.4)\n",
    "logistic.train_data(x, y)\n",
    "weight = logistic.gradient_descent(0.004, 1000)\n",
    "print(logistic.accuracy())\n",
    "logistic.confusion_matrix()\n",
    "\n",
    "padding = ' ' * 25\n",
    "for _ in range(c - 1):\n",
    "    print('{:.20s} {}'.format(data2.keys()[_] + padding, weight[_]))\n",
    "\n",
    "\n",
    "feature = Logistic(r, 2, 0.4)\n",
    "for _ in range(c - 1):\n",
    "    f = data2[data2.keys()[_]].to_numpy().reshape(-1, 1)\n",
    "    feature.train_data(f, y)\n",
    "    weight = feature.gradient_descent(0.004,1000)\n",
    "    print(data2.keys()[_], \" : \", weight[0])\n"
   ]
  },
  {
   "cell_type": "code",
   "execution_count": null,
   "id": "5002197a-930d-43a9-9b18-11a6a07f0033",
   "metadata": {},
   "outputs": [],
   "source": []
  }
 ],
 "metadata": {
  "kernelspec": {
   "display_name": "Python 3 (ipykernel)",
   "language": "python",
   "name": "python3"
  },
  "language_info": {
   "codemirror_mode": {
    "name": "ipython",
    "version": 3
   },
   "file_extension": ".py",
   "mimetype": "text/x-python",
   "name": "python",
   "nbconvert_exporter": "python",
   "pygments_lexer": "ipython3",
   "version": "3.11.7"
  }
 },
 "nbformat": 4,
 "nbformat_minor": 5
}
